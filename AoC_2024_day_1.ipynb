{
  "nbformat": 4,
  "nbformat_minor": 0,
  "metadata": {
    "colab": {
      "provenance": [],
      "authorship_tag": "ABX9TyOm+rGkZ7EY1vOWw3CixgME",
      "include_colab_link": true
    },
    "kernelspec": {
      "name": "python3",
      "display_name": "Python 3"
    },
    "language_info": {
      "name": "python"
    }
  },
  "cells": [
    {
      "cell_type": "markdown",
      "metadata": {
        "id": "view-in-github",
        "colab_type": "text"
      },
      "source": [
        "<a href=\"https://colab.research.google.com/github/yufengg/advent-of-code-2024/blob/master/AoC_2024_day_1.ipynb\" target=\"_parent\"><img src=\"https://colab.research.google.com/assets/colab-badge.svg\" alt=\"Open In Colab\"/></a>"
      ]
    },
    {
      "cell_type": "code",
      "execution_count": 1,
      "metadata": {
        "colab": {
          "base_uri": "https://localhost:8080/"
        },
        "id": "rjMHianG54UP",
        "outputId": "f34d52d2-d4ff-4163-e3f2-8ad25f0a73ce"
      },
      "outputs": [
        {
          "output_type": "stream",
          "name": "stdout",
          "text": [
            "Successfully downloaded input for year 2024, day 1 to 2024/day1.txt\n"
          ]
        }
      ],
      "source": [
        "# prompt: python code download advent of code file\n",
        "\n",
        "import requests\n",
        "import os\n",
        "from datetime import datetime\n",
        "\n",
        "def download_aoc_input(year, day, session_cookie):\n",
        "  \"\"\"Downloads the input file for a specific Advent of Code day.\n",
        "\n",
        "  Args:\n",
        "    year: The year of the challenge (e.g., 2023).\n",
        "    day: The day of the challenge (e.g., 1).\n",
        "    session_cookie: Your session cookie from the Advent of Code website.\n",
        "  \"\"\"\n",
        "\n",
        "  url = f\"https://adventofcode.com/{year}/day/{day}/input\"\n",
        "  headers = {\n",
        "      \"User-Agent\": \"github.com/yourusername/yourrepo (or your email)\",  # Replace with your info\n",
        "      \"Cookie\": f\"session={session_cookie}\"\n",
        "  }\n",
        "\n",
        "  try:\n",
        "    response = requests.get(url, headers=headers)\n",
        "    response.raise_for_status()  # Raise an exception for bad status codes\n",
        "\n",
        "    # Create a directory for the year if it doesn't exist\n",
        "    os.makedirs(str(year), exist_ok=True)\n",
        "\n",
        "    filename = os.path.join(str(year), f\"day{day}.txt\")\n",
        "    with open(filename, \"w\") as file:\n",
        "      file.write(response.text)\n",
        "    print(f\"Successfully downloaded input for year {year}, day {day} to {filename}\")\n",
        "    return filename\n",
        "\n",
        "  except requests.exceptions.RequestException as e:\n",
        "    print(f\"Error downloading input: {e}\")\n",
        "  except Exception as e:\n",
        "    print(f\"An unexpected error occurred: {e}\")\n",
        "\n",
        "\n",
        "# Example usage:  Replace with your actual values\n",
        "year = 2024  #@param {type:\"integer\"}\n",
        "day = 1 #@param {type:\"integer\"}\n",
        "session_cookie = \"53616c7465645f5fd6809f86933785dcec3c4f79b521758a796b0808898e32ff9a09d06dd15282b2a68340b7bf970ab66894fa0bf9271caa521bc5d5fc8df3b9\" #@param {type:\"string\"}\n",
        "\n",
        "input_filename = download_aoc_input(year, day, session_cookie)"
      ]
    },
    {
      "cell_type": "code",
      "source": [
        "import jax"
      ],
      "metadata": {
        "id": "hiaXgaS_7SKv"
      },
      "execution_count": 2,
      "outputs": []
    },
    {
      "cell_type": "code",
      "source": [
        "import jax.numpy as jnp"
      ],
      "metadata": {
        "id": "MT5xOIHe8VbC"
      },
      "execution_count": 6,
      "outputs": []
    },
    {
      "cell_type": "code",
      "source": [
        "\n",
        "def read_input(filename, parser=None):\n",
        "  with open(filename, 'r') as file:\n",
        "    lines = file.read().splitlines()\n",
        "    if parser:\n",
        "      lines = list(map(parser, lines))\n",
        "  return lines\n"
      ],
      "metadata": {
        "id": "LIuIO0nr7Y6G"
      },
      "execution_count": 7,
      "outputs": []
    },
    {
      "cell_type": "code",
      "source": [
        "list(map(int, '39472   15292'.split()))"
      ],
      "metadata": {
        "colab": {
          "base_uri": "https://localhost:8080/"
        },
        "id": "GpzyVqOiE4g_",
        "outputId": "29baaaa5-b256-4191-b660-b1413a2cfa58"
      },
      "execution_count": 8,
      "outputs": [
        {
          "output_type": "execute_result",
          "data": {
            "text/plain": [
              "[39472, 15292]"
            ]
          },
          "metadata": {},
          "execution_count": 8
        }
      ]
    },
    {
      "cell_type": "code",
      "source": [
        "input_filename = f'{year}/day{day}.txt'\n",
        "def day1_parser(line):\n",
        "  return list(map(int, line.split()))\n",
        "\n",
        "input_lines = read_input(input_filename, day1_parser)\n",
        "input_matrix = jnp.array(input_lines)"
      ],
      "metadata": {
        "id": "5PO4nds68VHS"
      },
      "execution_count": 9,
      "outputs": []
    },
    {
      "cell_type": "code",
      "source": [
        "def abs_diff(input_matrix):\n",
        "  sorted_matrix = jnp.sort(input_matrix, axis=0)\n",
        "  diffs = sorted_matrix[:,0] - sorted_matrix[:,1]\n",
        "  return jnp.abs(diffs).sum()\n"
      ],
      "metadata": {
        "id": "jFdL-PTlCpGW"
      },
      "execution_count": 20,
      "outputs": []
    },
    {
      "cell_type": "code",
      "source": [
        "%timeit abs_diff(input_matrix).block_until_ready()"
      ],
      "metadata": {
        "colab": {
          "base_uri": "https://localhost:8080/"
        },
        "id": "rf79pYrBE8Qf",
        "outputId": "54ebedf5-5efe-4102-d53b-48bf4c8d60de"
      },
      "execution_count": 21,
      "outputs": [
        {
          "output_type": "stream",
          "name": "stdout",
          "text": [
            "664 µs ± 28.3 µs per loop (mean ± std. dev. of 7 runs, 1000 loops each)\n"
          ]
        }
      ]
    },
    {
      "cell_type": "code",
      "source": [
        "jit_abs_diff = jax.jit(abs_diff)\n",
        "_ = jit_abs_diff(input_matrix)\n",
        "%timeit jit_abs_diff(input_matrix).block_until_ready()"
      ],
      "metadata": {
        "colab": {
          "base_uri": "https://localhost:8080/"
        },
        "id": "Z41OzF0uDady",
        "outputId": "4b9a5264-473a-48c7-b7db-727b0aa855c0"
      },
      "execution_count": 22,
      "outputs": [
        {
          "output_type": "stream",
          "name": "stdout",
          "text": [
            "459 µs ± 62.2 µs per loop (mean ± std. dev. of 7 runs, 1000 loops each)\n"
          ]
        }
      ]
    },
    {
      "cell_type": "markdown",
      "source": [
        "# Part 2\n",
        "\n",
        "Compute count of list 2 as a dict: `{number: count}`\n",
        "Go through list 1, referencing the dict, use `get(key, default=0)`\n",
        "Increment the total by number * count for each element."
      ],
      "metadata": {
        "id": "2Yq61dMNFNlh"
      }
    },
    {
      "cell_type": "code",
      "source": [],
      "metadata": {
        "id": "iEMzBsU_JY1V"
      },
      "execution_count": null,
      "outputs": []
    },
    {
      "cell_type": "code",
      "source": [
        "# @jax.jit\n",
        "def similarity_score(input_matrix):\n",
        "  # count up occurrences\n",
        "  # sorted_matrix = jnp.sort(input_matrix, axis=0)\n",
        "  list2 = input_matrix[:,1]\n",
        "  val, cts = jnp.unique(list2, return_counts=True, size=1000)\n",
        "  list2_dict = dict(zip(val.tolist(), cts.tolist()))\n",
        "\n",
        "  # def get_score(x):\n",
        "  #   return x * list2_dict.get(x, 0)\n",
        "  # v_get_score = jax.vmap(get_score)\n",
        "\n",
        "  scores = [x * list2_dict.get(x, 0) for x in input_matrix[:,0]]\n",
        "  # scores = v_get_score(input_matrix[:,0])\n",
        "  return jnp.sum(scores)"
      ],
      "metadata": {
        "id": "nfAoKeFJGTcs"
      },
      "execution_count": 64,
      "outputs": []
    },
    {
      "cell_type": "code",
      "source": [
        "similarity_score(input_matrix)"
      ],
      "metadata": {
        "colab": {
          "base_uri": "https://localhost:8080/",
          "height": 293
        },
        "id": "6fRy7TsuFOgx",
        "outputId": "222529ba-4701-4fd0-e875-2171b20f6dd2"
      },
      "execution_count": 65,
      "outputs": [
        {
          "output_type": "error",
          "ename": "TypeError",
          "evalue": "unhashable type: 'jaxlib.xla_extension.ArrayImpl'",
          "traceback": [
            "\u001b[0;31m---------------------------------------------------------------------------\u001b[0m",
            "\u001b[0;31mTypeError\u001b[0m                                 Traceback (most recent call last)",
            "\u001b[0;32m<ipython-input-65-99ec407d2f51>\u001b[0m in \u001b[0;36m<cell line: 1>\u001b[0;34m()\u001b[0m\n\u001b[0;32m----> 1\u001b[0;31m \u001b[0msimilarity_score\u001b[0m\u001b[0;34m(\u001b[0m\u001b[0minput_matrix\u001b[0m\u001b[0;34m)\u001b[0m\u001b[0;34m\u001b[0m\u001b[0;34m\u001b[0m\u001b[0m\n\u001b[0m",
            "\u001b[0;32m<ipython-input-64-49cdb7fa0b5f>\u001b[0m in \u001b[0;36msimilarity_score\u001b[0;34m(input_matrix)\u001b[0m\n\u001b[1;32m     11\u001b[0m   \u001b[0;31m# v_get_score = jax.vmap(get_score)\u001b[0m\u001b[0;34m\u001b[0m\u001b[0;34m\u001b[0m\u001b[0m\n\u001b[1;32m     12\u001b[0m \u001b[0;34m\u001b[0m\u001b[0m\n\u001b[0;32m---> 13\u001b[0;31m   \u001b[0mscores\u001b[0m \u001b[0;34m=\u001b[0m \u001b[0;34m[\u001b[0m\u001b[0mx\u001b[0m \u001b[0;34m*\u001b[0m \u001b[0mlist2_dict\u001b[0m\u001b[0;34m.\u001b[0m\u001b[0mget\u001b[0m\u001b[0;34m(\u001b[0m\u001b[0mx\u001b[0m\u001b[0;34m,\u001b[0m \u001b[0;36m0\u001b[0m\u001b[0;34m)\u001b[0m \u001b[0;32mfor\u001b[0m \u001b[0mx\u001b[0m \u001b[0;32min\u001b[0m \u001b[0minput_matrix\u001b[0m\u001b[0;34m[\u001b[0m\u001b[0;34m:\u001b[0m\u001b[0;34m,\u001b[0m\u001b[0;36m0\u001b[0m\u001b[0;34m]\u001b[0m\u001b[0;34m]\u001b[0m\u001b[0;34m\u001b[0m\u001b[0;34m\u001b[0m\u001b[0m\n\u001b[0m\u001b[1;32m     14\u001b[0m   \u001b[0;31m# scores = v_get_score(input_matrix[:,0])\u001b[0m\u001b[0;34m\u001b[0m\u001b[0;34m\u001b[0m\u001b[0m\n\u001b[1;32m     15\u001b[0m   \u001b[0;32mreturn\u001b[0m \u001b[0mjnp\u001b[0m\u001b[0;34m.\u001b[0m\u001b[0msum\u001b[0m\u001b[0;34m(\u001b[0m\u001b[0mscores\u001b[0m\u001b[0;34m)\u001b[0m\u001b[0;34m\u001b[0m\u001b[0;34m\u001b[0m\u001b[0m\n",
            "\u001b[0;32m<ipython-input-64-49cdb7fa0b5f>\u001b[0m in \u001b[0;36m<listcomp>\u001b[0;34m(.0)\u001b[0m\n\u001b[1;32m     11\u001b[0m   \u001b[0;31m# v_get_score = jax.vmap(get_score)\u001b[0m\u001b[0;34m\u001b[0m\u001b[0;34m\u001b[0m\u001b[0m\n\u001b[1;32m     12\u001b[0m \u001b[0;34m\u001b[0m\u001b[0m\n\u001b[0;32m---> 13\u001b[0;31m   \u001b[0mscores\u001b[0m \u001b[0;34m=\u001b[0m \u001b[0;34m[\u001b[0m\u001b[0mx\u001b[0m \u001b[0;34m*\u001b[0m \u001b[0mlist2_dict\u001b[0m\u001b[0;34m.\u001b[0m\u001b[0mget\u001b[0m\u001b[0;34m(\u001b[0m\u001b[0mx\u001b[0m\u001b[0;34m,\u001b[0m \u001b[0;36m0\u001b[0m\u001b[0;34m)\u001b[0m \u001b[0;32mfor\u001b[0m \u001b[0mx\u001b[0m \u001b[0;32min\u001b[0m \u001b[0minput_matrix\u001b[0m\u001b[0;34m[\u001b[0m\u001b[0;34m:\u001b[0m\u001b[0;34m,\u001b[0m\u001b[0;36m0\u001b[0m\u001b[0;34m]\u001b[0m\u001b[0;34m]\u001b[0m\u001b[0;34m\u001b[0m\u001b[0;34m\u001b[0m\u001b[0m\n\u001b[0m\u001b[1;32m     14\u001b[0m   \u001b[0;31m# scores = v_get_score(input_matrix[:,0])\u001b[0m\u001b[0;34m\u001b[0m\u001b[0;34m\u001b[0m\u001b[0m\n\u001b[1;32m     15\u001b[0m   \u001b[0;32mreturn\u001b[0m \u001b[0mjnp\u001b[0m\u001b[0;34m.\u001b[0m\u001b[0msum\u001b[0m\u001b[0;34m(\u001b[0m\u001b[0mscores\u001b[0m\u001b[0;34m)\u001b[0m\u001b[0;34m\u001b[0m\u001b[0;34m\u001b[0m\u001b[0m\n",
            "\u001b[0;31mTypeError\u001b[0m: unhashable type: 'jaxlib.xla_extension.ArrayImpl'"
          ]
        }
      ]
    },
    {
      "cell_type": "code",
      "source": [
        "list2 = input_matrix[:,1]\n",
        "val, cts = jnp.unique(list2, return_counts=True)\n",
        "list2_dict = dict(zip(val.tolist(), cts.tolist()))\n",
        "\n",
        "scores = jnp.array([x * list2_dict.get(x, 0) for x in input_matrix[:,0].tolist()])\n",
        "\n",
        "\n",
        "jnp.sum(scores)"
      ],
      "metadata": {
        "colab": {
          "base_uri": "https://localhost:8080/"
        },
        "id": "Y8ILpdVJEAqI",
        "outputId": "4042eeb0-c3c7-428c-a510-688fa2d844b8"
      },
      "execution_count": 69,
      "outputs": [
        {
          "output_type": "execute_result",
          "data": {
            "text/plain": [
              "Array(27732508, dtype=int32)"
            ]
          },
          "metadata": {},
          "execution_count": 69
        }
      ]
    },
    {
      "cell_type": "code",
      "source": [
        "list2_dict.get(10318,0)"
      ],
      "metadata": {
        "colab": {
          "base_uri": "https://localhost:8080/"
        },
        "id": "qfNg1q4NGQYh",
        "outputId": "b060a6d6-5a14-4c41-b5a2-1dddb4f0c041"
      },
      "execution_count": 57,
      "outputs": [
        {
          "output_type": "execute_result",
          "data": {
            "text/plain": [
              "1"
            ]
          },
          "metadata": {},
          "execution_count": 57
        }
      ]
    },
    {
      "cell_type": "code",
      "source": [
        "10318 in list2"
      ],
      "metadata": {
        "colab": {
          "base_uri": "https://localhost:8080/"
        },
        "id": "voUHTYZELJ1U",
        "outputId": "19ffcab9-b8aa-45ff-d9d4-a380b17aaf8d"
      },
      "execution_count": 53,
      "outputs": [
        {
          "output_type": "execute_result",
          "data": {
            "text/plain": [
              "True"
            ]
          },
          "metadata": {},
          "execution_count": 53
        }
      ]
    }
  ]
}