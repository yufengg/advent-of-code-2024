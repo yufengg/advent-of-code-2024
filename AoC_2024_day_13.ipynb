{
  "nbformat": 4,
  "nbformat_minor": 0,
  "metadata": {
    "colab": {
      "provenance": [],
      "authorship_tag": "ABX9TyOPrbDwFHT4tBfh/YrTaFc9",
      "include_colab_link": true
    },
    "kernelspec": {
      "name": "python3",
      "display_name": "Python 3"
    },
    "language_info": {
      "name": "python"
    }
  },
  "cells": [
    {
      "cell_type": "markdown",
      "metadata": {
        "id": "view-in-github",
        "colab_type": "text"
      },
      "source": [
        "<a href=\"https://colab.research.google.com/github/yufengg/advent-of-code-2024/blob/master/AoC_2024_day_13.ipynb\" target=\"_parent\"><img src=\"https://colab.research.google.com/assets/colab-badge.svg\" alt=\"Open In Colab\"/></a>"
      ]
    },
    {
      "cell_type": "code",
      "execution_count": 16,
      "metadata": {
        "colab": {
          "base_uri": "https://localhost:8080/"
        },
        "id": "rjMHianG54UP",
        "outputId": "0ce7714e-9a54-4b04-cdeb-37802a097187"
      },
      "outputs": [
        {
          "output_type": "stream",
          "name": "stdout",
          "text": [
            "Successfully downloaded input for year 2024, day 13 to 2024/day13.txt\n"
          ]
        }
      ],
      "source": [
        "# prompt: python code download advent of code file\n",
        "\n",
        "import requests\n",
        "import os\n",
        "from datetime import datetime\n",
        "\n",
        "def download_aoc_input(year, day, session_cookie):\n",
        "  \"\"\"Downloads the input file for a specific Advent of Code day.\n",
        "\n",
        "  Args:\n",
        "    year: The year of the challenge (e.g., 2023).\n",
        "    day: The day of the challenge (e.g., 1).\n",
        "    session_cookie: Your session cookie from the Advent of Code website.\n",
        "  \"\"\"\n",
        "\n",
        "  url = f\"https://adventofcode.com/{year}/day/{day}/input\"\n",
        "  headers = {\n",
        "      \"User-Agent\": \"github.com/yourusername/yourrepo (or your email)\",  # Replace with your info\n",
        "      \"Cookie\": f\"session={session_cookie}\"\n",
        "  }\n",
        "\n",
        "  try:\n",
        "    response = requests.get(url, headers=headers)\n",
        "    response.raise_for_status()  # Raise an exception for bad status codes\n",
        "\n",
        "    # Create a directory for the year if it doesn't exist\n",
        "    os.makedirs(str(year), exist_ok=True)\n",
        "\n",
        "    filename = os.path.join(str(year), f\"day{day}.txt\")\n",
        "    with open(filename, \"w\") as file:\n",
        "      file.write(response.text)\n",
        "    print(f\"Successfully downloaded input for year {year}, day {day} to {filename}\")\n",
        "    return filename\n",
        "\n",
        "  except requests.exceptions.RequestException as e:\n",
        "    print(f\"Error downloading input: {e}\")\n",
        "  except Exception as e:\n",
        "    print(f\"An unexpected error occurred: {e}\")\n",
        "\n",
        "\n",
        "# Example usage:  Replace with your actual values\n",
        "year = 2024  #@param {type:\"integer\"}\n",
        "day = 13 #@param {type:\"integer\"}\n",
        "session_cookie = \"53616c7465645f5fd6809f86933785dcec3c4f79b521758a796b0808898e32ff9a09d06dd15282b2a68340b7bf970ab66894fa0bf9271caa521bc5d5fc8df3b9\" #@param {type:\"string\"}\n",
        "\n",
        "input_filename = download_aoc_input(year, day, session_cookie)"
      ]
    },
    {
      "cell_type": "code",
      "source": [
        "import jax\n",
        "import jax.numpy as jnp\n",
        "import numpy as np\n",
        "import re"
      ],
      "metadata": {
        "id": "hiaXgaS_7SKv"
      },
      "execution_count": 17,
      "outputs": []
    },
    {
      "cell_type": "code",
      "source": [
        "\n",
        "def read_input(filename, parser=None):\n",
        "  with open(filename, 'r') as file:\n",
        "    lines = file.read().splitlines()\n",
        "    if parser:\n",
        "      lines = list(map(parser, lines))\n",
        "  return lines\n"
      ],
      "metadata": {
        "id": "LIuIO0nr7Y6G"
      },
      "execution_count": 18,
      "outputs": []
    },
    {
      "cell_type": "code",
      "source": [
        "input_filename = f'{year}/day{day}.txt'\n",
        "def parser(line):\n",
        "\n",
        "  return list(map(int, re.findall(r'\\d+', line)))\n",
        "\n",
        "input_lines = read_input(input_filename, parser)"
      ],
      "metadata": {
        "id": "5PO4nds68VHS"
      },
      "execution_count": 53,
      "outputs": []
    },
    {
      "cell_type": "code",
      "source": [
        "input_lines[:10]\n",
        "\n",
        "# input_line = input_lines[0]"
      ],
      "metadata": {
        "id": "jFdL-PTlCpGW",
        "colab": {
          "base_uri": "https://localhost:8080/"
        },
        "outputId": "c5ac6bf0-b0a6-42a8-c35c-7a975ec87668"
      },
      "execution_count": 54,
      "outputs": [
        {
          "output_type": "execute_result",
          "data": {
            "text/plain": [
              "[[77, 52],\n",
              " [14, 32],\n",
              " [5233, 14652],\n",
              " [],\n",
              " [98, 61],\n",
              " [23, 50],\n",
              " [10248, 7378],\n",
              " [],\n",
              " [54, 20],\n",
              " [28, 65]]"
            ]
          },
          "metadata": {},
          "execution_count": 54
        }
      ]
    },
    {
      "cell_type": "markdown",
      "source": [
        "# TEST data\n",
        "\n",
        "```\n",
        "Button A: X+94, Y+34\n",
        "Button B: X+22, Y+67\n",
        "Prize: X=8400, Y=5400\n",
        "\n",
        "a*94 + b*22 = 8400\n",
        "a*34 + b*67 = 5400\n",
        "\n",
        "b = (8400 - a*94)/22 = 8400/22 - a* 94/22\n",
        "\n",
        "a*34 + (8400/22 - a* 94/22)*67 = 5400\n",
        "a*34 + 8400/22*67 - a* 94/22*67 = 5400\n",
        "a*34 - a * 94/22*67 = 5400 - 8400/22*67\n",
        "\n",
        "a = (5400 - 8400/22*67) / (34 - 94/22*67) = 80\n",
        "\n",
        "```\n",
        "\n",
        "no solution\n",
        "```\n",
        "\n",
        "Button A: X+26, Y+66\n",
        "Button B: X+67, Y+21\n",
        "Prize: X=12748, Y=12176\n",
        "\n",
        "a*26 + b*67 = 12748\n",
        "a*66 + b*21 = 12176\n",
        "\n",
        "b = 12748/67 - a*26/67\n",
        "\n",
        "a = (12176 - 12748/67*21) / (66 - 26/67*21) = 141.404541 # not whole num\n",
        "```\n"
      ],
      "metadata": {
        "id": "sWcHpYg-nNMv"
      }
    },
    {
      "cell_type": "code",
      "source": [
        "a = 141.404541\n",
        "12748/67 - a*26/67"
      ],
      "metadata": {
        "colab": {
          "base_uri": "https://localhost:8080/"
        },
        "id": "fWe8XosQ6y_p",
        "outputId": "474561bc-9dba-47e6-ce51-0f9eab001b9d"
      },
      "execution_count": 3,
      "outputs": [
        {
          "output_type": "execute_result",
          "data": {
            "text/plain": [
              "135.39525274626868"
            ]
          },
          "metadata": {},
          "execution_count": 3
        }
      ]
    },
    {
      "cell_type": "code",
      "source": [
        "test_data = \"\"\"Button A: X+94, Y+34\n",
        "Button B: X+22, Y+67\n",
        "Prize: X=8400, Y=5400\n",
        "\n",
        "Button A: X+26, Y+66\n",
        "Button B: X+67, Y+21\n",
        "Prize: X=12748, Y=12176\n",
        "\n",
        "Button A: X+17, Y+86\n",
        "Button B: X+84, Y+37\n",
        "Prize: X=7870, Y=6450\n",
        "\n",
        "Button A: X+69, Y+23\n",
        "Button B: X+27, Y+71\n",
        "Prize: X=18641, Y=10279\"\"\"\n",
        "\n",
        "test_filename = f'{year}/test.txt'\n",
        "\n",
        "with open(test_filename, 'w') as file:\n",
        "  file.write(test_data)"
      ],
      "metadata": {
        "id": "dzDrNLoMnOCU"
      },
      "execution_count": 23,
      "outputs": []
    },
    {
      "cell_type": "code",
      "source": [
        "test_lines = read_input(test_filename, parser)\n"
      ],
      "metadata": {
        "id": "feGdA75xnZiV"
      },
      "execution_count": 24,
      "outputs": []
    },
    {
      "cell_type": "code",
      "source": [
        "test_lines"
      ],
      "metadata": {
        "id": "DcyUsRHTqGCo",
        "colab": {
          "base_uri": "https://localhost:8080/"
        },
        "outputId": "fb74cf04-c0d8-408d-ac2e-444d42f4b06f"
      },
      "execution_count": 25,
      "outputs": [
        {
          "output_type": "execute_result",
          "data": {
            "text/plain": [
              "[[94, 34],\n",
              " [22, 67],\n",
              " [8400, 5400],\n",
              " [],\n",
              " [26, 66],\n",
              " [67, 21],\n",
              " [12748, 12176],\n",
              " [],\n",
              " [17, 86],\n",
              " [84, 37],\n",
              " [7870, 6450],\n",
              " [],\n",
              " [69, 23],\n",
              " [27, 71],\n",
              " [18641, 10279]]"
            ]
          },
          "metadata": {},
          "execution_count": 25
        }
      ]
    },
    {
      "cell_type": "code",
      "source": [
        "def form_inputs(lines):\n",
        "  for i in range(0,len(lines),4):\n",
        "    yield lines[i], lines[i+1], lines[i+2]\n",
        "\n",
        "list(form_inputs(test_lines))"
      ],
      "metadata": {
        "colab": {
          "base_uri": "https://localhost:8080/"
        },
        "id": "DEMJO91_9XYf",
        "outputId": "2aba1e0c-f182-411f-f52c-c640594c04aa"
      },
      "execution_count": 27,
      "outputs": [
        {
          "output_type": "execute_result",
          "data": {
            "text/plain": [
              "[([94, 34], [22, 67], [8400, 5400]),\n",
              " ([26, 66], [67, 21], [12748, 12176]),\n",
              " ([17, 86], [84, 37], [7870, 6450]),\n",
              " ([69, 23], [27, 71], [18641, 10279])]"
            ]
          },
          "metadata": {},
          "execution_count": 27
        }
      ]
    },
    {
      "cell_type": "code",
      "source": [
        "def compute_a(button_a, button_b, prize):\n",
        "  x1 = button_a[0]\n",
        "  y1 = button_a[1]\n",
        "\n",
        "  x2 = button_b[0]\n",
        "  y2 = button_b[1]\n",
        "\n",
        "  # part 1\n",
        "  x_goal = prize[0]\n",
        "  y_goal = prize[1]\n",
        "\n",
        "  # part 2\n",
        "  x_goal = prize[0] + 10000000000000\n",
        "  y_goal = prize[1] + 10000000000000\n",
        "\n",
        "  # (5400 - 8400/22*67) / (34 - 94/22*67)\n",
        "  # Button A: X+94, Y+34\n",
        "  # Button B: X+22, Y+67\n",
        "  # Prize: X=8400, Y=5400\n",
        "\n",
        "  a = (y_goal - x_goal/x2*y2) / (y1 - x1/x2*y2)\n",
        "\n",
        "  b = (x_goal - a*x1)/x2\n",
        "\n",
        "  return a, b\n",
        "\n"
      ],
      "metadata": {
        "id": "hAGdvDai-ABJ"
      },
      "execution_count": 56,
      "outputs": []
    },
    {
      "cell_type": "code",
      "source": [
        "abs(1.99993 % 1)"
      ],
      "metadata": {
        "colab": {
          "base_uri": "https://localhost:8080/"
        },
        "id": "4dxSyzBQAEno",
        "outputId": "83ed48d4-4ff9-4183-d5e4-259fafc7045d"
      },
      "execution_count": 40,
      "outputs": [
        {
          "output_type": "execute_result",
          "data": {
            "text/plain": [
              "0.99993"
            ]
          },
          "metadata": {},
          "execution_count": 40
        }
      ]
    },
    {
      "cell_type": "code",
      "source": [
        "p = 4.9999\n",
        "abs(p - round(p)) < 1e-3\n",
        "round(p)"
      ],
      "metadata": {
        "colab": {
          "base_uri": "https://localhost:8080/"
        },
        "id": "qPxsfeoxAjtc",
        "outputId": "86764d15-4207-41b0-c35e-919040d3e294"
      },
      "execution_count": 50,
      "outputs": [
        {
          "output_type": "execute_result",
          "data": {
            "text/plain": [
              "5"
            ]
          },
          "metadata": {},
          "execution_count": 50
        }
      ]
    },
    {
      "cell_type": "code",
      "source": [
        "total_cost = 0\n",
        "\n",
        "for button_a, button_b, prize in form_inputs(input_lines):\n",
        "  a, b = compute_a(button_a, button_b, prize)\n",
        "  # print(a,b, a%1, b%1)\n",
        "  if abs(a-round(a)) < 1e-3 and abs(b-round(b)) < 1e-3:\n",
        "    cost = round(a)*3+round(b)\n",
        "    total_cost += cost\n",
        "\n",
        "total_cost"
      ],
      "metadata": {
        "colab": {
          "base_uri": "https://localhost:8080/"
        },
        "id": "QlS61azn_FQp",
        "outputId": "2e04a7fe-321e-4761-c861-3620179f8cbd"
      },
      "execution_count": 57,
      "outputs": [
        {
          "output_type": "execute_result",
          "data": {
            "text/plain": [
              "99423413811305"
            ]
          },
          "metadata": {},
          "execution_count": 57
        }
      ]
    }
  ]
}