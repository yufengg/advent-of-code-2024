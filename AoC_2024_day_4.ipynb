{
  "nbformat": 4,
  "nbformat_minor": 0,
  "metadata": {
    "colab": {
      "provenance": [],
      "authorship_tag": "ABX9TyMlE4QAd290ThmeuOXRMrXM",
      "include_colab_link": true
    },
    "kernelspec": {
      "name": "python3",
      "display_name": "Python 3"
    },
    "language_info": {
      "name": "python"
    }
  },
  "cells": [
    {
      "cell_type": "markdown",
      "metadata": {
        "id": "view-in-github",
        "colab_type": "text"
      },
      "source": [
        "<a href=\"https://colab.research.google.com/github/yufengg/advent-of-code-2024/blob/master/AoC_2024_day_4.ipynb\" target=\"_parent\"><img src=\"https://colab.research.google.com/assets/colab-badge.svg\" alt=\"Open In Colab\"/></a>"
      ]
    },
    {
      "cell_type": "code",
      "execution_count": null,
      "metadata": {
        "colab": {
          "base_uri": "https://localhost:8080/"
        },
        "id": "rjMHianG54UP",
        "outputId": "325774c8-ffb8-41a6-d742-1733d3f57f08"
      },
      "outputs": [
        {
          "output_type": "stream",
          "name": "stdout",
          "text": [
            "Successfully downloaded input for year 2024, day 4 to 2024/day4.txt\n"
          ]
        }
      ],
      "source": [
        "# prompt: python code download advent of code file\n",
        "\n",
        "import requests\n",
        "import os\n",
        "from datetime import datetime\n",
        "\n",
        "def download_aoc_input(year, day, session_cookie):\n",
        "  \"\"\"Downloads the input file for a specific Advent of Code day.\n",
        "\n",
        "  Args:\n",
        "    year: The year of the challenge (e.g., 2023).\n",
        "    day: The day of the challenge (e.g., 1).\n",
        "    session_cookie: Your session cookie from the Advent of Code website.\n",
        "  \"\"\"\n",
        "\n",
        "  url = f\"https://adventofcode.com/{year}/day/{day}/input\"\n",
        "  headers = {\n",
        "      \"User-Agent\": \"github.com/yourusername/yourrepo (or your email)\",  # Replace with your info\n",
        "      \"Cookie\": f\"session={session_cookie}\"\n",
        "  }\n",
        "\n",
        "  try:\n",
        "    response = requests.get(url, headers=headers)\n",
        "    response.raise_for_status()  # Raise an exception for bad status codes\n",
        "\n",
        "    # Create a directory for the year if it doesn't exist\n",
        "    os.makedirs(str(year), exist_ok=True)\n",
        "\n",
        "    filename = os.path.join(str(year), f\"day{day}.txt\")\n",
        "    with open(filename, \"w\") as file:\n",
        "      file.write(response.text)\n",
        "    print(f\"Successfully downloaded input for year {year}, day {day} to {filename}\")\n",
        "    return filename\n",
        "\n",
        "  except requests.exceptions.RequestException as e:\n",
        "    print(f\"Error downloading input: {e}\")\n",
        "  except Exception as e:\n",
        "    print(f\"An unexpected error occurred: {e}\")\n",
        "\n",
        "\n",
        "# Example usage:  Replace with your actual values\n",
        "year = 2024  #@param {type:\"integer\"}\n",
        "day = 4 #@param {type:\"integer\"}\n",
        "session_cookie = \"53616c7465645f5fd6809f86933785dcec3c4f79b521758a796b0808898e32ff9a09d06dd15282b2a68340b7bf970ab66894fa0bf9271caa521bc5d5fc8df3b9\" #@param {type:\"string\"}\n",
        "\n",
        "input_filename = download_aoc_input(year, day, session_cookie)"
      ]
    },
    {
      "cell_type": "code",
      "source": [
        "import jax\n",
        "import jax.numpy as jnp"
      ],
      "metadata": {
        "id": "hiaXgaS_7SKv"
      },
      "execution_count": null,
      "outputs": []
    },
    {
      "cell_type": "code",
      "source": [
        "\n",
        "def read_input(filename, parser=None):\n",
        "  with open(filename, 'r') as file:\n",
        "    lines = file.read().splitlines()\n",
        "    if parser:\n",
        "      lines = list(map(parser, lines))\n",
        "  return lines\n"
      ],
      "metadata": {
        "id": "LIuIO0nr7Y6G"
      },
      "execution_count": null,
      "outputs": []
    },
    {
      "cell_type": "code",
      "source": [
        "list('asfa')"
      ],
      "metadata": {
        "colab": {
          "base_uri": "https://localhost:8080/"
        },
        "id": "fYegHf1TDcMn",
        "outputId": "71fc8df9-bc8a-42b0-8881-ad21e57e40c7"
      },
      "execution_count": null,
      "outputs": [
        {
          "output_type": "execute_result",
          "data": {
            "text/plain": [
              "['a', 's', 'f', 'a']"
            ]
          },
          "metadata": {},
          "execution_count": 6
        }
      ]
    },
    {
      "cell_type": "code",
      "source": [
        "input_filename = f'{year}/day{day}.txt'\n",
        "def parser(line):\n",
        "  return list(line)\n",
        "\n",
        "input_lines = read_input(input_filename, None)"
      ],
      "metadata": {
        "id": "5PO4nds68VHS"
      },
      "execution_count": null,
      "outputs": []
    },
    {
      "cell_type": "code",
      "source": [
        "input_lines[0]"
      ],
      "metadata": {
        "id": "jFdL-PTlCpGW",
        "colab": {
          "base_uri": "https://localhost:8080/"
        },
        "outputId": "016741f4-5692-4ffd-d839-a76208809ebe"
      },
      "execution_count": null,
      "outputs": [
        {
          "output_type": "execute_result",
          "data": {
            "text/plain": [
              "140"
            ]
          },
          "metadata": {},
          "execution_count": 17
        }
      ]
    },
    {
      "cell_type": "markdown",
      "source": [
        "Search for each instance of \"X\". Then freely traverse in each direction until it stops spelling XMAS. Need to keep going in the same direction for each search path.\n",
        "\n",
        "it's a 140x140 grid"
      ],
      "metadata": {
        "id": "Gu7qhC0HD901"
      }
    },
    {
      "cell_type": "code",
      "source": [
        "class Grid():\n",
        "  def __init__(self, input_filename) -> None:\n",
        "    self.M = read_input(input_filename, None)\n",
        "    self.row_max = len(self.M)-1\n",
        "    self.col_max = len(self.M[0])-1\n",
        "\n",
        "  # safe retrieval of matrix values\n",
        "  def get(self, loc):\n",
        "    if loc[0] > self.row_max or loc[0] < 0:\n",
        "      return None\n",
        "    if loc[1] > self.col_max or loc[1] < 0:\n",
        "      return None\n",
        "    return self.M[loc[0]][loc[1]]\n",
        "\n",
        "  # given a location and a direction code, return the next location and its value\n",
        "  # direction: [delta_x, delta_y]\n",
        "  # 123\n",
        "  # 456\n",
        "  # 789\n",
        "  # location: [x,y]\n",
        "  #\n",
        "  def step(self, loc, dir):\n",
        "    x = loc[0] + dir[0]\n",
        "    y = loc[1] + dir[1]\n",
        "    val = self.get([x,y]) # validates\n",
        "    if val is None:\n",
        "      return None, None\n",
        "    return [x,y], val\n",
        "\n",
        "  # search for the first letter of \"letters\" one step in `dir` from `loc`\n",
        "  def search(self, letters, loc, dir):\n",
        "    if len(letters) == 0:\n",
        "      return True\n",
        "\n",
        "    next_loc, next_val = self.step(loc, dir)\n",
        "    if next_val is None:\n",
        "      return False\n",
        "    if next_val != letters[0]:\n",
        "      return False\n",
        "\n",
        "    # if reach here, the letter matches\n",
        "    # call with 1 shorter string, at the next loc, continue same dir\n",
        "    return self.search(letters[1:], next_loc, dir)\n",
        "\n",
        "  def print(self):\n",
        "    for i in range(self.row_max):\n",
        "      for j in range(self.col_max):\n",
        "        print(g.get([i,j]), end='')\n",
        "      print()\n"
      ],
      "metadata": {
        "id": "R93fX1RQDulP"
      },
      "execution_count": null,
      "outputs": []
    },
    {
      "cell_type": "code",
      "source": [
        "g = Grid(input_filename)"
      ],
      "metadata": {
        "collapsed": true,
        "id": "jvsso6dGTMxy"
      },
      "execution_count": null,
      "outputs": []
    },
    {
      "cell_type": "code",
      "source": [
        "x_dim = 140\n",
        "y_dim = 140\n",
        "count = 0\n",
        "for i in range(x_dim):\n",
        "  for j in range(y_dim):\n",
        "    if g.get([i,j]) == 'X':\n",
        "      for dir in [[-1,0],[1,0],[0,-1],[0,1], [-1, -1], [-1, 1], [1, -1], [1, 1]]:\n",
        "        if g.search(\"MAS\", [i,j], dir):\n",
        "          count+=1\n",
        "print(count)"
      ],
      "metadata": {
        "colab": {
          "base_uri": "https://localhost:8080/"
        },
        "id": "13UvN0M4GdRv",
        "outputId": "40377dea-83e0-47e1-f09c-89514e9d4338"
      },
      "execution_count": null,
      "outputs": [
        {
          "output_type": "stream",
          "name": "stdout",
          "text": [
            "2591\n"
          ]
        }
      ]
    },
    {
      "cell_type": "markdown",
      "source": [
        "# Part 2"
      ],
      "metadata": {
        "id": "6rgOZcNEKPeC"
      }
    },
    {
      "cell_type": "code",
      "source": [
        "class Grid():\n",
        "  def __init__(self, input_filename) -> None:\n",
        "    self.M = read_input(input_filename, None)\n",
        "    self.row_max = len(self.M)-1\n",
        "    self.col_max = len(self.M[0])-1\n",
        "\n",
        "  # safe retrieval of matrix values\n",
        "  def get(self, loc):\n",
        "    if loc[0] > self.row_max or loc[0] < 0:\n",
        "      return None\n",
        "    if loc[1] > self.col_max or loc[1] < 0:\n",
        "      return None\n",
        "    return self.M[loc[0]][loc[1]]\n",
        "\n",
        "  # given a location and a direction code, return the next location and its value\n",
        "  # direction: [delta_x, delta_y]\n",
        "  # 123\n",
        "  # 456\n",
        "  # 789\n",
        "  # location: [x,y]\n",
        "  #\n",
        "  def step(self, loc, dir):\n",
        "    x = loc[0] + dir[0]\n",
        "    y = loc[1] + dir[1]\n",
        "    val = self.get([x,y]) # validates\n",
        "    if val is None:\n",
        "      return None, None\n",
        "    return [x,y], val\n",
        "\n",
        "  # search each of the 4 corners\n",
        "  def search(self, letters, loc, dir):\n",
        "    if len(letters) == 0:\n",
        "      return True\n",
        "\n",
        "    next_loc, next_val = self.step(loc, dir)\n",
        "    if next_val is None:\n",
        "      return False\n",
        "    if next_val != letters[0]:\n",
        "      return False\n",
        "\n",
        "    # if reach here, the letter matches\n",
        "    # call with 1 shorter string, at the next loc, continue same dir\n",
        "    return self.search(letters[1:], next_loc, dir)\n",
        "\n",
        "  def print(self):\n",
        "    for i in range(self.row_max):\n",
        "      for j in range(self.col_max):\n",
        "        print(g.get([i,j]), end='')\n",
        "      print()\n",
        "\n",
        "g = Grid(input_filename)"
      ],
      "metadata": {
        "id": "VAG_WlI9oTNC"
      },
      "execution_count": null,
      "outputs": []
    },
    {
      "cell_type": "code",
      "source": [
        "x_dim = 140\n",
        "y_dim = 140\n",
        "count = 0\n",
        "for i in range(x_dim):\n",
        "  for j in range(y_dim):\n",
        "    if g.get([i,j]) == 'A':\n",
        "      x1 = []\n",
        "      for dir in [ [-1, -1], [1, 1]]:\n",
        "        _,val = g.step([i,j], dir)\n",
        "        x1.append(val)\n",
        "      if not (\"M\" in x1 and \"S\" in x1):\n",
        "        continue\n",
        "\n",
        "      x2 = []\n",
        "      for dir in [ [1, -1], [-1, 1]]:\n",
        "        _,val = g.step([i,j], dir)\n",
        "        x2.append(val)\n",
        "      if not (\"M\" in x2 and \"S\" in x2):\n",
        "        continue\n",
        "\n",
        "      # we have an X-MAS\n",
        "      count+=1\n",
        "\n",
        "\n",
        "print(count)"
      ],
      "metadata": {
        "colab": {
          "base_uri": "https://localhost:8080/"
        },
        "id": "l4_NzmczKX1Q",
        "outputId": "e70dc0a9-4f9b-4192-cdb0-a6d4c61dc2d1"
      },
      "execution_count": null,
      "outputs": [
        {
          "output_type": "stream",
          "name": "stdout",
          "text": [
            "1880\n"
          ]
        }
      ]
    },
    {
      "cell_type": "code",
      "source": [],
      "metadata": {
        "id": "trRah-KqL7LN"
      },
      "execution_count": null,
      "outputs": []
    }
  ]
}