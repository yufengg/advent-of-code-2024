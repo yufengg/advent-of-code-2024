{
  "nbformat": 4,
  "nbformat_minor": 0,
  "metadata": {
    "colab": {
      "provenance": [],
      "authorship_tag": "ABX9TyOUrVyzJhlb0Sd4BRYiK/4V",
      "include_colab_link": true
    },
    "kernelspec": {
      "name": "python3",
      "display_name": "Python 3"
    },
    "language_info": {
      "name": "python"
    }
  },
  "cells": [
    {
      "cell_type": "markdown",
      "metadata": {
        "id": "view-in-github",
        "colab_type": "text"
      },
      "source": [
        "<a href=\"https://colab.research.google.com/github/yufengg/advent-of-code-2024/blob/master/AoC_2024_day_7.ipynb\" target=\"_parent\"><img src=\"https://colab.research.google.com/assets/colab-badge.svg\" alt=\"Open In Colab\"/></a>"
      ]
    },
    {
      "cell_type": "code",
      "execution_count": 1,
      "metadata": {
        "colab": {
          "base_uri": "https://localhost:8080/"
        },
        "id": "rjMHianG54UP",
        "outputId": "186ee5b7-e59b-4eaf-ca7a-4665bea40ab1"
      },
      "outputs": [
        {
          "output_type": "stream",
          "name": "stdout",
          "text": [
            "Successfully downloaded input for year 2024, day 7 to 2024/day7.txt\n"
          ]
        }
      ],
      "source": [
        "# prompt: python code download advent of code file\n",
        "\n",
        "import requests\n",
        "import os\n",
        "from datetime import datetime\n",
        "\n",
        "def download_aoc_input(year, day, session_cookie):\n",
        "  \"\"\"Downloads the input file for a specific Advent of Code day.\n",
        "\n",
        "  Args:\n",
        "    year: The year of the challenge (e.g., 2023).\n",
        "    day: The day of the challenge (e.g., 1).\n",
        "    session_cookie: Your session cookie from the Advent of Code website.\n",
        "  \"\"\"\n",
        "\n",
        "  url = f\"https://adventofcode.com/{year}/day/{day}/input\"\n",
        "  headers = {\n",
        "      \"User-Agent\": \"github.com/yourusername/yourrepo (or your email)\",  # Replace with your info\n",
        "      \"Cookie\": f\"session={session_cookie}\"\n",
        "  }\n",
        "\n",
        "  try:\n",
        "    response = requests.get(url, headers=headers)\n",
        "    response.raise_for_status()  # Raise an exception for bad status codes\n",
        "\n",
        "    # Create a directory for the year if it doesn't exist\n",
        "    os.makedirs(str(year), exist_ok=True)\n",
        "\n",
        "    filename = os.path.join(str(year), f\"day{day}.txt\")\n",
        "    with open(filename, \"w\") as file:\n",
        "      file.write(response.text)\n",
        "    print(f\"Successfully downloaded input for year {year}, day {day} to {filename}\")\n",
        "    return filename\n",
        "\n",
        "  except requests.exceptions.RequestException as e:\n",
        "    print(f\"Error downloading input: {e}\")\n",
        "  except Exception as e:\n",
        "    print(f\"An unexpected error occurred: {e}\")\n",
        "\n",
        "\n",
        "# Example usage:  Replace with your actual values\n",
        "year = 2024  #@param {type:\"integer\"}\n",
        "day = 7 #@param {type:\"integer\"}\n",
        "session_cookie = \"53616c7465645f5fd6809f86933785dcec3c4f79b521758a796b0808898e32ff9a09d06dd15282b2a68340b7bf970ab66894fa0bf9271caa521bc5d5fc8df3b9\" #@param {type:\"string\"}\n",
        "\n",
        "input_filename = download_aoc_input(year, day, session_cookie)"
      ]
    },
    {
      "cell_type": "code",
      "source": [
        "import jax\n",
        "import jax.numpy as jnp\n",
        "import numpy as np\n"
      ],
      "metadata": {
        "id": "hiaXgaS_7SKv"
      },
      "execution_count": 2,
      "outputs": []
    },
    {
      "cell_type": "code",
      "source": [
        "\n",
        "def read_input(filename, parser=None):\n",
        "  with open(filename, 'r') as file:\n",
        "    lines = file.read().splitlines()\n",
        "    if parser:\n",
        "      lines = list(map(parser, lines))\n",
        "  return lines\n"
      ],
      "metadata": {
        "id": "LIuIO0nr7Y6G"
      },
      "execution_count": 3,
      "outputs": []
    },
    {
      "cell_type": "code",
      "source": [
        "input_filename = f'{year}/day{day}.txt'\n",
        "def parser(line):\n",
        "  result, nums = line.split(': ')\n",
        "  result = int(result)\n",
        "  nums = list(map(int, nums.split()))\n",
        "  return result, nums\n",
        "\n",
        "input_lines = read_input(input_filename, parser)"
      ],
      "metadata": {
        "id": "5PO4nds68VHS"
      },
      "execution_count": 4,
      "outputs": []
    },
    {
      "cell_type": "code",
      "source": [
        "input_lines[0:5]"
      ],
      "metadata": {
        "id": "jFdL-PTlCpGW",
        "colab": {
          "base_uri": "https://localhost:8080/"
        },
        "outputId": "5b64e036-420f-4e4e-9db5-4277a558b198"
      },
      "execution_count": 5,
      "outputs": [
        {
          "output_type": "execute_result",
          "data": {
            "text/plain": [
              "[(3240922, [256, 6, 83, 6, 8, 2, 76, 2, 2]),\n",
              " (4781829, [3, 1, 471, 3, 23, 80, 49, 556]),\n",
              " (185303830, [72, 646, 498, 8, 15, 7]),\n",
              " (4396909609, [594, 17, 67, 1, 6, 9, 74, 845]),\n",
              " (51395424, [611, 9, 7, 24, 85, 579, 348])]"
            ]
          },
          "metadata": {},
          "execution_count": 5
        }
      ]
    },
    {
      "cell_type": "markdown",
      "source": [
        "for each row, binary tree the ops to test combos until we have a match or we finish the search. recursion should do it here."
      ],
      "metadata": {
        "id": "Gu7qhC0HD901"
      }
    },
    {
      "cell_type": "code",
      "source": [
        "def find_total(goal_result, running_tally, nums):\n",
        "  if running_tally == goal_result:\n",
        "    return True\n",
        "  if len(nums) == 0:\n",
        "    return False\n",
        "\n",
        "\n",
        "  if find_total(goal_result, running_tally + nums[0], nums[1:]):\n",
        "    return True\n",
        "  else:\n",
        "    return find_total(goal_result, running_tally * nums[0], nums[1:])\n"
      ],
      "metadata": {
        "id": "R93fX1RQDulP"
      },
      "execution_count": 34,
      "outputs": []
    },
    {
      "cell_type": "code",
      "source": [
        "find_total(3267, 81, [ 40, 27])"
      ],
      "metadata": {
        "collapsed": true,
        "id": "jvsso6dGTMxy",
        "colab": {
          "base_uri": "https://localhost:8080/"
        },
        "outputId": "58f023f3-386f-490e-f95c-5c6b1b0a9c08"
      },
      "execution_count": 20,
      "outputs": [
        {
          "output_type": "execute_result",
          "data": {
            "text/plain": [
              "True"
            ]
          },
          "metadata": {},
          "execution_count": 20
        }
      ]
    },
    {
      "cell_type": "code",
      "source": [
        "# 21037: 9 7 18 13\n",
        "find_total(21037, 9, [7, 18, 13])"
      ],
      "metadata": {
        "colab": {
          "base_uri": "https://localhost:8080/"
        },
        "id": "lo01FxOzoGWs",
        "outputId": "7c4d1e10-4b43-4882-c20a-a3d18d4f84b8"
      },
      "execution_count": 21,
      "outputs": [
        {
          "output_type": "execute_result",
          "data": {
            "text/plain": [
              "False"
            ]
          },
          "metadata": {},
          "execution_count": 21
        }
      ]
    },
    {
      "cell_type": "code",
      "source": [
        "found_goals = []\n",
        "for goal, nums in input_lines:\n",
        "  if find_total(goal, nums[0], nums[1:]):\n",
        "    found_goals.append(goal)"
      ],
      "metadata": {
        "id": "13UvN0M4GdRv"
      },
      "execution_count": 22,
      "outputs": []
    },
    {
      "cell_type": "code",
      "source": [
        "found_goals"
      ],
      "metadata": {
        "colab": {
          "base_uri": "https://localhost:8080/"
        },
        "collapsed": true,
        "id": "0XTBZIpXoqr_",
        "outputId": "82b269f5-b7d2-44f0-cc56-85d53535efa2"
      },
      "execution_count": 23,
      "outputs": [
        {
          "output_type": "execute_result",
          "data": {
            "text/plain": [
              "[4781829,\n",
              " 185303830,\n",
              " 51187716609,\n",
              " 149,\n",
              " 36764030,\n",
              " 90,\n",
              " 579799,\n",
              " 1711,\n",
              " 12784,\n",
              " 166306618368,\n",
              " 116348400,\n",
              " 350064,\n",
              " 26848040198,\n",
              " 9245211,\n",
              " 5112,\n",
              " 41507809,\n",
              " 6186110889,\n",
              " 152540,\n",
              " 8020356,\n",
              " 88373874,\n",
              " 114504,\n",
              " 3739374,\n",
              " 2859367,\n",
              " 112867776,\n",
              " 1722017,\n",
              " 7263,\n",
              " 1119901426,\n",
              " 296493,\n",
              " 99815364,\n",
              " 3354,\n",
              " 2175040,\n",
              " 7393,\n",
              " 311202,\n",
              " 40694678,\n",
              " 116395,\n",
              " 105596926,\n",
              " 452569,\n",
              " 25265,\n",
              " 220549392,\n",
              " 1780,\n",
              " 22879250,\n",
              " 167089216,\n",
              " 2647323,\n",
              " 7820,\n",
              " 60151,\n",
              " 6381,\n",
              " 1066338,\n",
              " 4888422,\n",
              " 148617,\n",
              " 1706,\n",
              " 222360,\n",
              " 833,\n",
              " 112387,\n",
              " 449890,\n",
              " 47177856,\n",
              " 209051443965,\n",
              " 12432,\n",
              " 75516636,\n",
              " 1651812,\n",
              " 2213348,\n",
              " 317513,\n",
              " 109631599,\n",
              " 4524000,\n",
              " 170710,\n",
              " 14004606,\n",
              " 14435,\n",
              " 2587924,\n",
              " 12560,\n",
              " 439274,\n",
              " 955240,\n",
              " 1965,\n",
              " 2001540608,\n",
              " 122078,\n",
              " 1323,\n",
              " 99171744,\n",
              " 558,\n",
              " 106153647,\n",
              " 4232,\n",
              " 479050,\n",
              " 2071304352,\n",
              " 88640,\n",
              " 707827,\n",
              " 1197659,\n",
              " 22210,\n",
              " 47275323,\n",
              " 67472505,\n",
              " 12560,\n",
              " 6397313,\n",
              " 719328,\n",
              " 35104400,\n",
              " 2648300,\n",
              " 3048437,\n",
              " 1963982,\n",
              " 21,\n",
              " 93706,\n",
              " 504494,\n",
              " 2773798,\n",
              " 194395,\n",
              " 155022,\n",
              " 3737283012,\n",
              " 131594,\n",
              " 3035928,\n",
              " 134436,\n",
              " 59144157078,\n",
              " 1322895,\n",
              " 20155,\n",
              " 1719,\n",
              " 384,\n",
              " 1547960154,\n",
              " 881783,\n",
              " 39740,\n",
              " 2831,\n",
              " 1740,\n",
              " 6518232,\n",
              " 12600,\n",
              " 10906,\n",
              " 23569563,\n",
              " 670151107604,\n",
              " 46058,\n",
              " 23352233001,\n",
              " 6041811,\n",
              " 12917242,\n",
              " 19093,\n",
              " 57475,\n",
              " 82199776,\n",
              " 2133774,\n",
              " 3230835,\n",
              " 1319052,\n",
              " 1525,\n",
              " 12600,\n",
              " 4753664,\n",
              " 177156107,\n",
              " 907988,\n",
              " 232708,\n",
              " 15624,\n",
              " 709294260,\n",
              " 33208,\n",
              " 947417877,\n",
              " 465478112,\n",
              " 408039258,\n",
              " 164820,\n",
              " 63644912,\n",
              " 249992724,\n",
              " 510545,\n",
              " 849,\n",
              " 22155,\n",
              " 33936,\n",
              " 22969,\n",
              " 107875040,\n",
              " 3780000,\n",
              " 468,\n",
              " 445144,\n",
              " 12715,\n",
              " 7721,\n",
              " 1119853,\n",
              " 847061,\n",
              " 1315650,\n",
              " 119439888,\n",
              " 3013933,\n",
              " 1712980,\n",
              " 1240,\n",
              " 623463848,\n",
              " 111457,\n",
              " 2541440,\n",
              " 1716392396,\n",
              " 7030,\n",
              " 10958979,\n",
              " 353801856,\n",
              " 97551305,\n",
              " 1634,\n",
              " 4943080,\n",
              " 2088456,\n",
              " 62000,\n",
              " 1341,\n",
              " 1573,\n",
              " 4733412,\n",
              " 186912,\n",
              " 3991,\n",
              " 648,\n",
              " 225402,\n",
              " 113,\n",
              " 180390,\n",
              " 8605146,\n",
              " 17616456,\n",
              " 176424,\n",
              " 384655,\n",
              " 11360958,\n",
              " 96296769,\n",
              " 42275,\n",
              " 139,\n",
              " 925,\n",
              " 15668345980,\n",
              " 18489900,\n",
              " 23946624,\n",
              " 2638191,\n",
              " 8356663,\n",
              " 2878,\n",
              " 1899,\n",
              " 845283,\n",
              " 455076,\n",
              " 902,\n",
              " 169,\n",
              " 195391386,\n",
              " 123370,\n",
              " 55503552,\n",
              " 149304064,\n",
              " 27050,\n",
              " 50731,\n",
              " 8199886,\n",
              " 2231247,\n",
              " 10556,\n",
              " 2276999438,\n",
              " 44941674,\n",
              " 49317,\n",
              " 25589960,\n",
              " 65733,\n",
              " 40868100,\n",
              " 2983206,\n",
              " 20877362,\n",
              " 206643072,\n",
              " 21341959,\n",
              " 2440764,\n",
              " 5537,\n",
              " 12,\n",
              " 66677,\n",
              " 2464753,\n",
              " 6269,\n",
              " 1375909900,\n",
              " 252648,\n",
              " 207180,\n",
              " 12874752,\n",
              " 25564711968,\n",
              " 14176365,\n",
              " 1087250,\n",
              " 8856,\n",
              " 46932,\n",
              " 269458560,\n",
              " 11781,\n",
              " 49555840,\n",
              " 44079,\n",
              " 8413057884,\n",
              " 67213,\n",
              " 176936,\n",
              " 12875,\n",
              " 12232620,\n",
              " 155328,\n",
              " 36967,\n",
              " 65955,\n",
              " 1288605,\n",
              " 591,\n",
              " 4766235,\n",
              " 917,\n",
              " 24252714,\n",
              " 10821339,\n",
              " 1726956,\n",
              " 446810,\n",
              " 35291,\n",
              " 2627928,\n",
              " 90548137,\n",
              " 1413,\n",
              " 634246200,\n",
              " 83865602,\n",
              " 758333016,\n",
              " 630205,\n",
              " 14289,\n",
              " 3329920,\n",
              " 1458,\n",
              " 1636231872,\n",
              " 26469,\n",
              " 225297,\n",
              " 2668,\n",
              " 187360,\n",
              " 7681,\n",
              " 496800,\n",
              " 408,\n",
              " 221260,\n",
              " 1536,\n",
              " 14280,\n",
              " 2145600,\n",
              " 12902400,\n",
              " 110,\n",
              " 37000,\n",
              " 24056850,\n",
              " 2931,\n",
              " 303299,\n",
              " 28651637,\n",
              " 41886,\n",
              " 1226636,\n",
              " 132435472,\n",
              " 21650,\n",
              " 296410818,\n",
              " 22359,\n",
              " 239,\n",
              " 5834400,\n",
              " 2564,\n",
              " 4687,\n",
              " 448519503,\n",
              " 851904,\n",
              " 3022,\n",
              " 9601,\n",
              " 1220415,\n",
              " 3511836,\n",
              " 24731293,\n",
              " 186921,\n",
              " 12622,\n",
              " 5099353,\n",
              " 1531956,\n",
              " 100407,\n",
              " 56789271,\n",
              " 922332,\n",
              " 8951,\n",
              " 44833500,\n",
              " 27837018,\n",
              " 136114788,\n",
              " 382484592,\n",
              " 80040,\n",
              " 121824,\n",
              " 227158,\n",
              " 74468820,\n",
              " 11104,\n",
              " 20321309,\n",
              " 1575,\n",
              " 3837597,\n",
              " 5260,\n",
              " 84760,\n",
              " 2263,\n",
              " 596229888,\n",
              " 777296,\n",
              " 451243440,\n",
              " 96979,\n",
              " 32592,\n",
              " 177223221,\n",
              " 669480,\n",
              " 16395,\n",
              " 23585069,\n",
              " 1875280072,\n",
              " 717,\n",
              " 2385,\n",
              " 109572,\n",
              " 36103148,\n",
              " 93759996960,\n",
              " 786357,\n",
              " 2038622,\n",
              " 373685,\n",
              " 15591,\n",
              " 3725159,\n",
              " 36406960,\n",
              " 408622,\n",
              " 2478,\n",
              " 150774920,\n",
              " 338745,\n",
              " 12994083,\n",
              " 317202,\n",
              " 253046610,\n",
              " 114748,\n",
              " 10228512,\n",
              " 64514,\n",
              " 34,\n",
              " 27328,\n",
              " 312352,\n",
              " 19811,\n",
              " 795267,\n",
              " 783516,\n",
              " 10355981,\n",
              " 94864,\n",
              " 3515,\n",
              " 151977,\n",
              " 8990,\n",
              " 40554858,\n",
              " 8653752,\n",
              " 290305266,\n",
              " 40539212,\n",
              " 457576,\n",
              " 699210,\n",
              " 36036528,\n",
              " 1228415259,\n",
              " 194940,\n",
              " 7371,\n",
              " 1818672,\n",
              " 13046500,\n",
              " 856,\n",
              " 3963,\n",
              " 9952828,\n",
              " 159011265,\n",
              " 6880,\n",
              " 4008,\n",
              " 518193210,\n",
              " 394686,\n",
              " 112728,\n",
              " 2306719800,\n",
              " 1134704,\n",
              " 652478,\n",
              " 5997,\n",
              " 28446,\n",
              " 375425820,\n",
              " 337280,\n",
              " 7496,\n",
              " 28376568,\n",
              " 1070640,\n",
              " 9963,\n",
              " 28656749040,\n",
              " 6995418,\n",
              " 1067,\n",
              " 105355968,\n",
              " 7915404000,\n",
              " 7925,\n",
              " 42147842,\n",
              " 8072613,\n",
              " 517482,\n",
              " 357489,\n",
              " 227,\n",
              " 175,\n",
              " 574393600,\n",
              " 722,\n",
              " 22242550,\n",
              " 2540]"
            ]
          },
          "metadata": {},
          "execution_count": 23
        }
      ]
    },
    {
      "cell_type": "code",
      "source": [
        "sum(found_goals)"
      ],
      "metadata": {
        "colab": {
          "base_uri": "https://localhost:8080/"
        },
        "id": "RfckTq_8oxqR",
        "outputId": "65d44a0e-f48a-4bf0-b46c-ee4ff2eb254a"
      },
      "execution_count": 25,
      "outputs": [
        {
          "output_type": "execute_result",
          "data": {
            "text/plain": [
              "1430271835320"
            ]
          },
          "metadata": {},
          "execution_count": 25
        }
      ]
    },
    {
      "cell_type": "markdown",
      "source": [
        "# Part 2"
      ],
      "metadata": {
        "id": "6rgOZcNEKPeC"
      }
    },
    {
      "cell_type": "code",
      "source": [
        "def find_total(goal_result, running_tally, nums):\n",
        "  if running_tally == goal_result and len(nums) ==0:\n",
        "    return True\n",
        "  if len(nums) == 0:\n",
        "    return False\n",
        "\n",
        "\n",
        "  if find_total(goal_result, running_tally + nums[0], nums[1:]):\n",
        "    print(running_tally, '+', nums[0])\n",
        "    return True\n",
        "  elif find_total(goal_result, running_tally * nums[0], nums[1:]):\n",
        "    print(running_tally, '*', nums[0])\n",
        "    return True\n",
        "  elif find_total(goal_result, int(str(running_tally) + str(nums[0])), nums[1:]):\n",
        "    print(running_tally, '|', nums[0])\n",
        "    return True\n",
        "  else:\n",
        "    return False\n",
        "\n"
      ],
      "metadata": {
        "id": "VAG_WlI9oTNC"
      },
      "execution_count": 39,
      "outputs": []
    },
    {
      "cell_type": "code",
      "source": [
        "find_total(3267, 81, [ 40, 27])\n"
      ],
      "metadata": {
        "colab": {
          "base_uri": "https://localhost:8080/"
        },
        "id": "l4_NzmczKX1Q",
        "outputId": "c6af7d49-af78-4840-fba7-69d0a813180e"
      },
      "execution_count": 24,
      "outputs": [
        {
          "output_type": "stream",
          "name": "stdout",
          "text": [
            "121 * 27\n",
            "81 + 40\n"
          ]
        },
        {
          "output_type": "execute_result",
          "data": {
            "text/plain": [
              "True"
            ]
          },
          "metadata": {},
          "execution_count": 24
        }
      ]
    },
    {
      "cell_type": "code",
      "source": [
        "# 7290: 6 8 6 15\n",
        "find_total(7290, 6, [ 8,6,15 ])\n"
      ],
      "metadata": {
        "colab": {
          "base_uri": "https://localhost:8080/"
        },
        "id": "vhi0tzwApLoh",
        "outputId": "0cc25d0d-1a7a-42d6-db76-8e610886a0f9"
      },
      "execution_count": 25,
      "outputs": [
        {
          "output_type": "stream",
          "name": "stdout",
          "text": [
            "486 * 15\n",
            "48 | 6\n",
            "6 * 8\n"
          ]
        },
        {
          "output_type": "execute_result",
          "data": {
            "text/plain": [
              "True"
            ]
          },
          "metadata": {},
          "execution_count": 25
        }
      ]
    },
    {
      "cell_type": "code",
      "source": [
        "# 192: 17 8 14\n",
        "find_total(192, 17, [ 8,14 ])\n"
      ],
      "metadata": {
        "colab": {
          "base_uri": "https://localhost:8080/"
        },
        "id": "uKZ2gjrOp5Eb",
        "outputId": "a1f0e242-4eb5-4a8c-fd9a-62803aa3f1ff"
      },
      "execution_count": 26,
      "outputs": [
        {
          "output_type": "stream",
          "name": "stdout",
          "text": [
            "178 + 14\n",
            "17 | 8\n"
          ]
        },
        {
          "output_type": "execute_result",
          "data": {
            "text/plain": [
              "True"
            ]
          },
          "metadata": {},
          "execution_count": 26
        }
      ]
    },
    {
      "cell_type": "code",
      "source": [
        "# 20166689766943: 60 6 11 8 6 8 6 7 8 694 3\n",
        "find_total(20166689766943, 60, [ 6,11,8,6,8,6,7,8,694,3 ])"
      ],
      "metadata": {
        "colab": {
          "base_uri": "https://localhost:8080/"
        },
        "id": "liRxDpjp22_U",
        "outputId": "7606af7d-4974-4f01-cd45-d1d885a930e9"
      },
      "execution_count": 36,
      "outputs": [
        {
          "output_type": "execute_result",
          "data": {
            "text/plain": [
              "True"
            ]
          },
          "metadata": {},
          "execution_count": 36
        }
      ]
    },
    {
      "cell_type": "code",
      "source": [
        "# 1559778746: 1 733 9 70 8 746 2\n",
        "find_total(1559778746, 1, [ 733,9,70,8,746,2 ])"
      ],
      "metadata": {
        "colab": {
          "base_uri": "https://localhost:8080/"
        },
        "id": "xbgXOtRc55XQ",
        "outputId": "dc727823-05b7-4f5e-96df-1bad48119e26"
      },
      "execution_count": 38,
      "outputs": [
        {
          "output_type": "stream",
          "name": "stdout",
          "text": [
            "1559778 | 746\n",
            "1559770 + 8\n",
            "15597 | 70\n",
            "1733 * 9\n",
            "1 | 733\n"
          ]
        },
        {
          "output_type": "execute_result",
          "data": {
            "text/plain": [
              "True"
            ]
          },
          "metadata": {},
          "execution_count": 38
        }
      ]
    },
    {
      "cell_type": "code",
      "source": [
        "found_goals = []\n",
        "for goal, nums in input_lines:\n",
        "  if find_total(goal, nums[0], nums[1:]):\n",
        "    found_goals.append(goal)"
      ],
      "metadata": {
        "id": "trRah-KqL7LN"
      },
      "execution_count": 30,
      "outputs": []
    },
    {
      "cell_type": "code",
      "source": [
        "sum(found_goals)\n"
      ],
      "metadata": {
        "colab": {
          "base_uri": "https://localhost:8080/"
        },
        "id": "4WXEEZHhpJzx",
        "outputId": "0ba343c6-85e4-4b0b-fdc5-feea2b96dde0"
      },
      "execution_count": 48,
      "outputs": [
        {
          "output_type": "execute_result",
          "data": {
            "text/plain": [
              "456567238446228"
            ]
          },
          "metadata": {},
          "execution_count": 48
        }
      ]
    },
    {
      "cell_type": "code",
      "source": [
        "sum(found_goals)\n"
      ],
      "metadata": {
        "colab": {
          "base_uri": "https://localhost:8080/"
        },
        "id": "BcJQbyH0psFk",
        "outputId": "ce3a2db5-82db-4362-ed39-351276903feb"
      },
      "execution_count": 31,
      "outputs": [
        {
          "output_type": "execute_result",
          "data": {
            "text/plain": [
              "456565678667482"
            ]
          },
          "metadata": {},
          "execution_count": 31
        }
      ]
    },
    {
      "cell_type": "code",
      "source": [
        "456567238446228 - 456565678667482\n",
        "# this was the diff between whether it early terminates, and the rule that broke the old code using that 1 example.\n",
        "# Needed to check that the value matched the goal AND there were no more numbers in the queue."
      ],
      "metadata": {
        "colab": {
          "base_uri": "https://localhost:8080/"
        },
        "id": "y4vwFMBe4stU",
        "outputId": "c461410d-3a6a-476a-9627-9901120f8a17"
      },
      "execution_count": 32,
      "outputs": [
        {
          "output_type": "execute_result",
          "data": {
            "text/plain": [
              "1559778746"
            ]
          },
          "metadata": {},
          "execution_count": 32
        }
      ]
    }
  ]
}